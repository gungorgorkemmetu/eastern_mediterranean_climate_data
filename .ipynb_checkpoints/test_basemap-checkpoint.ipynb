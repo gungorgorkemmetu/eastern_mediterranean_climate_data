{
 "cells": [
  {
   "cell_type": "code",
   "execution_count": null,
   "id": "9bb00840-0371-4da9-873f-6b59138c2904",
   "metadata": {},
   "outputs": [],
   "source": []
  }
 ],
 "metadata": {
  "kernelspec": {
   "display_name": "Python 3 (ipykernel)",
   "language": "python",
   "name": "python3"
  },
  "language_info": {
   "name": ""
  }
 },
 "nbformat": 4,
 "nbformat_minor": 5
}
