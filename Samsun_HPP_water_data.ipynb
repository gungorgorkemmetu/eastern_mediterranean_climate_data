{
 "cells": [
  {
   "cell_type": "code",
   "execution_count": 1,
   "id": "3e40919e",
   "metadata": {},
   "outputs": [],
   "source": [
    "import pandas as pd\n",
    "import os"
   ]
  },
  {
   "cell_type": "code",
   "execution_count": 3,
   "id": "4ba6cf66",
   "metadata": {},
   "outputs": [],
   "source": [
    "filename = \"YTBS/\"+os.listdir('YTBS/')[0]\n",
    "data = pd.read_excel(filename, usecols=['SANTRAL ADI','YIL','AYLAR','GELEN SU'])\n",
    "\n",
    "for i in range(len(os.listdir('YTBS/'))-1):\n",
    "    filename = \"YTBS/\"+os.listdir('YTBS/')[i+1]\n",
    "    data_add = pd.read_excel(filename, usecols=['SANTRAL ADI','YIL','AYLAR','GELEN SU'])\n",
    "    frames = [data, data_add]\n",
    "    data = pd.concat(frames)"
   ]
  },
  {
   "cell_type": "code",
   "execution_count": 4,
   "id": "131180c6",
   "metadata": {},
   "outputs": [
    {
     "data": {
      "text/plain": [
       "(1104, 4)"
      ]
     },
     "execution_count": 4,
     "metadata": {},
     "output_type": "execute_result"
    }
   ],
   "source": [
    "data.shape"
   ]
  },
  {
   "cell_type": "code",
   "execution_count": 5,
   "id": "eb6ebbca",
   "metadata": {},
   "outputs": [
    {
     "data": {
      "text/html": [
       "<div>\n",
       "<style scoped>\n",
       "    .dataframe tbody tr th:only-of-type {\n",
       "        vertical-align: middle;\n",
       "    }\n",
       "\n",
       "    .dataframe tbody tr th {\n",
       "        vertical-align: top;\n",
       "    }\n",
       "\n",
       "    .dataframe thead th {\n",
       "        text-align: right;\n",
       "    }\n",
       "</style>\n",
       "<table border=\"1\" class=\"dataframe\">\n",
       "  <thead>\n",
       "    <tr style=\"text-align: right;\">\n",
       "      <th></th>\n",
       "      <th>SANTRAL ADI</th>\n",
       "      <th>YIL</th>\n",
       "      <th>AYLAR</th>\n",
       "      <th>GELEN SU</th>\n",
       "    </tr>\n",
       "  </thead>\n",
       "  <tbody>\n",
       "    <tr>\n",
       "      <th>0</th>\n",
       "      <td>ALTINKAYA HES</td>\n",
       "      <td>2001</td>\n",
       "      <td>Ocak</td>\n",
       "      <td>263116.511</td>\n",
       "    </tr>\n",
       "    <tr>\n",
       "      <th>1</th>\n",
       "      <td>ALTINKAYA HES</td>\n",
       "      <td>2001</td>\n",
       "      <td>Şubat</td>\n",
       "      <td>266004.589</td>\n",
       "    </tr>\n",
       "    <tr>\n",
       "      <th>2</th>\n",
       "      <td>ALTINKAYA HES</td>\n",
       "      <td>2001</td>\n",
       "      <td>Mart</td>\n",
       "      <td>278379.779</td>\n",
       "    </tr>\n",
       "    <tr>\n",
       "      <th>3</th>\n",
       "      <td>ALTINKAYA HES</td>\n",
       "      <td>2001</td>\n",
       "      <td>Nisan</td>\n",
       "      <td>142486.115</td>\n",
       "    </tr>\n",
       "    <tr>\n",
       "      <th>4</th>\n",
       "      <td>ALTINKAYA HES</td>\n",
       "      <td>2001</td>\n",
       "      <td>Mayıs</td>\n",
       "      <td>292039.065</td>\n",
       "    </tr>\n",
       "  </tbody>\n",
       "</table>\n",
       "</div>"
      ],
      "text/plain": [
       "     SANTRAL ADI   YIL  AYLAR    GELEN SU\n",
       "0  ALTINKAYA HES  2001   Ocak  263116.511\n",
       "1  ALTINKAYA HES  2001  Şubat  266004.589\n",
       "2  ALTINKAYA HES  2001   Mart  278379.779\n",
       "3  ALTINKAYA HES  2001  Nisan  142486.115\n",
       "4  ALTINKAYA HES  2001  Mayıs  292039.065"
      ]
     },
     "execution_count": 5,
     "metadata": {},
     "output_type": "execute_result"
    }
   ],
   "source": [
    "data.head()"
   ]
  },
  {
   "cell_type": "code",
   "execution_count": 6,
   "id": "a242ab8a",
   "metadata": {},
   "outputs": [
    {
     "data": {
      "text/html": [
       "<div>\n",
       "<style scoped>\n",
       "    .dataframe tbody tr th:only-of-type {\n",
       "        vertical-align: middle;\n",
       "    }\n",
       "\n",
       "    .dataframe tbody tr th {\n",
       "        vertical-align: top;\n",
       "    }\n",
       "\n",
       "    .dataframe thead th {\n",
       "        text-align: right;\n",
       "    }\n",
       "</style>\n",
       "<table border=\"1\" class=\"dataframe\">\n",
       "  <thead>\n",
       "    <tr style=\"text-align: right;\">\n",
       "      <th></th>\n",
       "      <th>SANTRAL ADI</th>\n",
       "      <th>YIL</th>\n",
       "      <th>AYLAR</th>\n",
       "      <th>GELEN SU</th>\n",
       "    </tr>\n",
       "  </thead>\n",
       "  <tbody>\n",
       "    <tr>\n",
       "      <th>43</th>\n",
       "      <td>SUAT UĞURLU HES</td>\n",
       "      <td>2023</td>\n",
       "      <td>Ağustos</td>\n",
       "      <td>514824.944</td>\n",
       "    </tr>\n",
       "    <tr>\n",
       "      <th>44</th>\n",
       "      <td>SUAT UĞURLU HES</td>\n",
       "      <td>2023</td>\n",
       "      <td>Eylül</td>\n",
       "      <td>311705.504</td>\n",
       "    </tr>\n",
       "    <tr>\n",
       "      <th>45</th>\n",
       "      <td>SUAT UĞURLU HES</td>\n",
       "      <td>2023</td>\n",
       "      <td>Ekim</td>\n",
       "      <td>290446.880</td>\n",
       "    </tr>\n",
       "    <tr>\n",
       "      <th>46</th>\n",
       "      <td>SUAT UĞURLU HES</td>\n",
       "      <td>2023</td>\n",
       "      <td>Kasım</td>\n",
       "      <td>286736.966</td>\n",
       "    </tr>\n",
       "    <tr>\n",
       "      <th>47</th>\n",
       "      <td>SUAT UĞURLU HES</td>\n",
       "      <td>2023</td>\n",
       "      <td>Aralık</td>\n",
       "      <td>261352.065</td>\n",
       "    </tr>\n",
       "  </tbody>\n",
       "</table>\n",
       "</div>"
      ],
      "text/plain": [
       "        SANTRAL ADI   YIL    AYLAR    GELEN SU\n",
       "43  SUAT UĞURLU HES  2023  Ağustos  514824.944\n",
       "44  SUAT UĞURLU HES  2023    Eylül  311705.504\n",
       "45  SUAT UĞURLU HES  2023     Ekim  290446.880\n",
       "46  SUAT UĞURLU HES  2023    Kasım  286736.966\n",
       "47  SUAT UĞURLU HES  2023   Aralık  261352.065"
      ]
     },
     "execution_count": 6,
     "metadata": {},
     "output_type": "execute_result"
    }
   ],
   "source": [
    "data.tail()"
   ]
  },
  {
   "cell_type": "code",
   "execution_count": 7,
   "id": "d106d361",
   "metadata": {},
   "outputs": [
    {
     "data": {
      "text/plain": [
       "(1104, 4)"
      ]
     },
     "execution_count": 7,
     "metadata": {},
     "output_type": "execute_result"
    }
   ],
   "source": [
    "# Reset index\n",
    "data.reset_index(drop=True)\n",
    "\n",
    "# Check the numbe of rows and columns of dataframe\n",
    "data.shape"
   ]
  },
  {
   "cell_type": "code",
   "execution_count": 8,
   "id": "189ddffe",
   "metadata": {},
   "outputs": [
    {
     "data": {
      "text/plain": [
       "SANTRAL ADI     object\n",
       "YIL              int64\n",
       "AYLAR           object\n",
       "GELEN SU       float64\n",
       "dtype: object"
      ]
     },
     "execution_count": 8,
     "metadata": {},
     "output_type": "execute_result"
    }
   ],
   "source": [
    "data.dtypes"
   ]
  },
  {
   "cell_type": "code",
   "execution_count": 9,
   "id": "683c30af",
   "metadata": {},
   "outputs": [],
   "source": [
    "# Calculate the annual water inflow to HPPs\n",
    "water_inflow = data.groupby([\"SANTRAL ADI\",\"YIL\"])[\"GELEN SU\"].sum()"
   ]
  },
  {
   "cell_type": "code",
   "execution_count": 10,
   "id": "1f1cb4c5",
   "metadata": {},
   "outputs": [
    {
     "data": {
      "text/plain": [
       "SANTRAL ADI    YIL \n",
       "ALTINKAYA HES  2001    2128843.502\n",
       "               2002    3455389.383\n",
       "               2003    2424699.438\n",
       "               2004    3456506.100\n",
       "               2005    2288576.474\n",
       "Name: GELEN SU, dtype: float64"
      ]
     },
     "execution_count": 10,
     "metadata": {},
     "output_type": "execute_result"
    }
   ],
   "source": [
    "water_inflow.head()"
   ]
  },
  {
   "cell_type": "code",
   "execution_count": 11,
   "id": "666fada0",
   "metadata": {},
   "outputs": [
    {
     "data": {
      "text/plain": [
       "SANTRAL ADI      YIL \n",
       "SUAT UĞURLU HES  2019    4453471.771\n",
       "                 2020    3598616.755\n",
       "                 2021    2006063.781\n",
       "                 2022    1308063.157\n",
       "                 2023    4362832.935\n",
       "Name: GELEN SU, dtype: float64"
      ]
     },
     "execution_count": 11,
     "metadata": {},
     "output_type": "execute_result"
    }
   ],
   "source": [
    "water_inflow.tail()"
   ]
  },
  {
   "cell_type": "code",
   "execution_count": 12,
   "id": "67d911d4",
   "metadata": {},
   "outputs": [
    {
     "data": {
      "text/plain": [
       "pandas.core.series.Series"
      ]
     },
     "execution_count": 12,
     "metadata": {},
     "output_type": "execute_result"
    }
   ],
   "source": [
    "type(water_inflow)"
   ]
  },
  {
   "cell_type": "code",
   "execution_count": 13,
   "id": "4609a36a",
   "metadata": {},
   "outputs": [
    {
     "data": {
      "text/plain": [
       "dtype('float64')"
      ]
     },
     "execution_count": 13,
     "metadata": {},
     "output_type": "execute_result"
    }
   ],
   "source": [
    "water_inflow.dtypes"
   ]
  },
  {
   "cell_type": "code",
   "execution_count": 14,
   "id": "4e42c992",
   "metadata": {},
   "outputs": [
    {
     "data": {
      "text/plain": [
       "0       ALTINKAYA HES\n",
       "1       ALTINKAYA HES\n",
       "2       ALTINKAYA HES\n",
       "3       ALTINKAYA HES\n",
       "4       ALTINKAYA HES\n",
       "           ...       \n",
       "43    SUAT UĞURLU HES\n",
       "44    SUAT UĞURLU HES\n",
       "45    SUAT UĞURLU HES\n",
       "46    SUAT UĞURLU HES\n",
       "47    SUAT UĞURLU HES\n",
       "Name: SANTRAL ADI, Length: 1104, dtype: object"
      ]
     },
     "execution_count": 14,
     "metadata": {},
     "output_type": "execute_result"
    }
   ],
   "source": [
    "data['SANTRAL ADI']"
   ]
  },
  {
   "cell_type": "code",
   "execution_count": 15,
   "id": "3478b149",
   "metadata": {},
   "outputs": [
    {
     "name": "stdout",
     "output_type": "stream",
     "text": [
      "ALTINKAYA HES\n",
      "ALTINKAYA HES\n",
      "ALTINKAYA HES\n",
      "ALTINKAYA HES\n",
      "ALTINKAYA HES\n",
      "ALTINKAYA HES\n",
      "ALTINKAYA HES\n",
      "ALTINKAYA HES\n",
      "ALTINKAYA HES\n",
      "ALTINKAYA HES\n",
      "ALTINKAYA HES\n",
      "ALTINKAYA HES\n",
      "ALTINKAYA HES\n",
      "ALTINKAYA HES\n",
      "ALTINKAYA HES\n",
      "ALTINKAYA HES\n",
      "ALTINKAYA HES\n",
      "ALTINKAYA HES\n",
      "ALTINKAYA HES\n",
      "ALTINKAYA HES\n",
      "ALTINKAYA HES\n",
      "ALTINKAYA HES\n",
      "ALTINKAYA HES\n",
      "DERBENT HES\n",
      "DERBENT HES\n",
      "DERBENT HES\n",
      "DERBENT HES\n",
      "DERBENT HES\n",
      "DERBENT HES\n",
      "DERBENT HES\n",
      "DERBENT HES\n",
      "DERBENT HES\n",
      "DERBENT HES\n",
      "DERBENT HES\n",
      "DERBENT HES\n",
      "DERBENT HES\n",
      "DERBENT HES\n",
      "DERBENT HES\n",
      "DERBENT HES\n",
      "DERBENT HES\n",
      "DERBENT HES\n",
      "DERBENT HES\n",
      "DERBENT HES\n",
      "DERBENT HES\n",
      "DERBENT HES\n",
      "DERBENT HES\n",
      "HASAN UĞURLU HES\n",
      "HASAN UĞURLU HES\n",
      "HASAN UĞURLU HES\n",
      "HASAN UĞURLU HES\n",
      "HASAN UĞURLU HES\n",
      "HASAN UĞURLU HES\n",
      "HASAN UĞURLU HES\n",
      "HASAN UĞURLU HES\n",
      "HASAN UĞURLU HES\n",
      "HASAN UĞURLU HES\n",
      "HASAN UĞURLU HES\n",
      "HASAN UĞURLU HES\n",
      "HASAN UĞURLU HES\n",
      "HASAN UĞURLU HES\n",
      "HASAN UĞURLU HES\n",
      "HASAN UĞURLU HES\n",
      "HASAN UĞURLU HES\n",
      "HASAN UĞURLU HES\n",
      "HASAN UĞURLU HES\n",
      "HASAN UĞURLU HES\n",
      "HASAN UĞURLU HES\n",
      "HASAN UĞURLU HES\n",
      "HASAN UĞURLU HES\n",
      "SUAT UĞURLU HES\n",
      "SUAT UĞURLU HES\n",
      "SUAT UĞURLU HES\n",
      "SUAT UĞURLU HES\n",
      "SUAT UĞURLU HES\n",
      "SUAT UĞURLU HES\n",
      "SUAT UĞURLU HES\n",
      "SUAT UĞURLU HES\n",
      "SUAT UĞURLU HES\n",
      "SUAT UĞURLU HES\n",
      "SUAT UĞURLU HES\n",
      "SUAT UĞURLU HES\n",
      "SUAT UĞURLU HES\n",
      "SUAT UĞURLU HES\n",
      "SUAT UĞURLU HES\n",
      "SUAT UĞURLU HES\n",
      "SUAT UĞURLU HES\n",
      "SUAT UĞURLU HES\n",
      "SUAT UĞURLU HES\n",
      "SUAT UĞURLU HES\n",
      "SUAT UĞURLU HES\n",
      "SUAT UĞURLU HES\n",
      "SUAT UĞURLU HES\n"
     ]
    }
   ],
   "source": [
    "for series_name, series in water_inflow.items():\n",
    "    print(series_name[0])\n",
    "#    print(series)"
   ]
  },
  {
   "cell_type": "code",
   "execution_count": 16,
   "id": "b6800ff0",
   "metadata": {
    "scrolled": true
   },
   "outputs": [
    {
     "name": "stdout",
     "output_type": "stream",
     "text": [
      "ALTINKAYA HES 2001 2128843.502\n",
      "ALTINKAYA HES 2002 3455389.383\n",
      "ALTINKAYA HES 2003 2424699.438\n",
      "ALTINKAYA HES 2004 3456506.1\n",
      "ALTINKAYA HES 2005 2288576.474\n",
      "ALTINKAYA HES 2006 2233877.775\n",
      "ALTINKAYA HES 2007 1422776.406\n",
      "ALTINKAYA HES 2008 1222148.563\n",
      "ALTINKAYA HES 2009 3061896.222\n",
      "ALTINKAYA HES 2010 4123326.542\n",
      "ALTINKAYA HES 2011 4903305.535\n",
      "ALTINKAYA HES 2012 2331456.75\n",
      "ALTINKAYA HES 2013 3246544.408\n",
      "ALTINKAYA HES 2014 2609853.732\n",
      "ALTINKAYA HES 2015 4207684.604\n",
      "ALTINKAYA HES 2016 3552381.149\n",
      "ALTINKAYA HES 2017 2541604.526\n",
      "ALTINKAYA HES 2018 2056628.2920000001\n",
      "ALTINKAYA HES 2019 2560784.989\n",
      "ALTINKAYA HES 2020 1464686.55\n",
      "ALTINKAYA HES 2021 2098929.042\n",
      "ALTINKAYA HES 2022 556333.784\n",
      "ALTINKAYA HES 2023 2347089.716\n",
      "DERBENT HES 2001 2095537.679\n",
      "DERBENT HES 2002 2846612.882\n",
      "DERBENT HES 2003 1778616.626\n",
      "DERBENT HES 2004 3492943.686\n",
      "DERBENT HES 2005 2492319.318\n",
      "DERBENT HES 2006 2722187.389\n",
      "DERBENT HES 2007 1769825.6940000001\n",
      "DERBENT HES 2008 1166335.528\n",
      "DERBENT HES 2009 1646083.129\n",
      "DERBENT HES 2010 4855416.224\n",
      "DERBENT HES 2011 4819579.763\n",
      "DERBENT HES 2012 2467332.874\n",
      "DERBENT HES 2013 3799702.278\n",
      "DERBENT HES 2014 1938813.403\n",
      "DERBENT HES 2015 3623243.695\n",
      "DERBENT HES 2016 4066682.934\n",
      "DERBENT HES 2017 2832956.214\n",
      "DERBENT HES 2018 2305180.282\n",
      "DERBENT HES 2019 2636449.807\n",
      "DERBENT HES 2020 2226394.111\n",
      "DERBENT HES 2021 1519796.54\n",
      "DERBENT HES 2022 556905.6969999999\n",
      "DERBENT HES 2023 2307958.536\n",
      "HASAN UĞURLU HES 2001 2176390.98\n",
      "HASAN UĞURLU HES 2002 3476113.647\n",
      "HASAN UĞURLU HES 2003 3170180.414\n",
      "HASAN UĞURLU HES 2004 4339975.849\n",
      "HASAN UĞURLU HES 2005 4868822.065\n",
      "HASAN UĞURLU HES 2006 4476142.243\n",
      "HASAN UĞURLU HES 2007 3077111.372\n",
      "HASAN UĞURLU HES 2008 4206838.7\n",
      "HASAN UĞURLU HES 2009 5934074.68\n",
      "HASAN UĞURLU HES 2010 6030372.601\n",
      "HASAN UĞURLU HES 2011 4930085.4569999995\n",
      "HASAN UĞURLU HES 2012 3926605.306\n",
      "HASAN UĞURLU HES 2013 3676807.0\n",
      "HASAN UĞURLU HES 2014 1597260.764\n",
      "HASAN UĞURLU HES 2015 4274322.807\n",
      "HASAN UĞURLU HES 2016 4645093.964\n",
      "HASAN UĞURLU HES 2017 2913544.556\n",
      "HASAN UĞURLU HES 2018 2803021.02\n",
      "HASAN UĞURLU HES 2019 4110846.394\n",
      "HASAN UĞURLU HES 2020 3307358.433\n",
      "HASAN UĞURLU HES 2021 1809061.227\n",
      "HASAN UĞURLU HES 2022 959732.596\n",
      "HASAN UĞURLU HES 2023 3879189.994\n",
      "SUAT UĞURLU HES 2001 2062270.44\n",
      "SUAT UĞURLU HES 2002 3402744.971\n",
      "SUAT UĞURLU HES 2003 2997758.47\n",
      "SUAT UĞURLU HES 2004 4314916.535\n",
      "SUAT UĞURLU HES 2005 4989146.147\n",
      "SUAT UĞURLU HES 2006 4540522.264\n",
      "SUAT UĞURLU HES 2007 3122033.983\n",
      "SUAT UĞURLU HES 2008 4394641.044\n",
      "SUAT UĞURLU HES 2009 6083549.227\n",
      "SUAT UĞURLU HES 2010 6253178.111\n",
      "SUAT UĞURLU HES 2011 5155607.732\n",
      "SUAT UĞURLU HES 2012 3957709.77\n",
      "SUAT UĞURLU HES 2013 3794078.6969999997\n",
      "SUAT UĞURLU HES 2014 1413840.1\n",
      "SUAT UĞURLU HES 2015 4463927.66\n",
      "SUAT UĞURLU HES 2016 5078640.26\n",
      "SUAT UĞURLU HES 2017 2919385.756\n",
      "SUAT UĞURLU HES 2018 3041831.149\n",
      "SUAT UĞURLU HES 2019 4453471.771\n",
      "SUAT UĞURLU HES 2020 3598616.755\n",
      "SUAT UĞURLU HES 2021 2006063.781\n",
      "SUAT UĞURLU HES 2022 1308063.1570000001\n",
      "SUAT UĞURLU HES 2023 4362832.9350000005\n"
     ]
    }
   ],
   "source": [
    "for series_name, series in water_inflow.items():\n",
    "    print(series_name[0], series_name[1], series)"
   ]
  },
  {
   "cell_type": "code",
   "execution_count": 17,
   "id": "6d2e19a4",
   "metadata": {},
   "outputs": [],
   "source": [
    "water_inflow.to_excel('water_inflow.xlsx', index=True)"
   ]
  }
 ],
 "metadata": {
  "kernelspec": {
   "display_name": "Python [conda env:message_env] *",
   "language": "python",
   "name": "conda-env-message_env-py"
  },
  "language_info": {
   "codemirror_mode": {
    "name": "ipython",
    "version": 3
   },
   "file_extension": ".py",
   "mimetype": "text/x-python",
   "name": "python",
   "nbconvert_exporter": "python",
   "pygments_lexer": "ipython3",
   "version": "3.11.4"
  }
 },
 "nbformat": 4,
 "nbformat_minor": 5
}
